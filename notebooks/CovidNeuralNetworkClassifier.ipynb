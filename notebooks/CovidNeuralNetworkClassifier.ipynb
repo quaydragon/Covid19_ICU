{
  "nbformat": 4,
  "nbformat_minor": 0,
  "metadata": {
    "colab": {
      "name": "CovidNeuralNetworkClassifier.ipynb",
      "provenance": []
    },
    "kernelspec": {
      "name": "python3",
      "display_name": "Python 3"
    },
    "language_info": {
      "name": "python"
    }
  },
  "cells": [
    {
      "cell_type": "code",
      "execution_count": 710,
      "metadata": {
        "id": "TIWk9xWWeoQL"
      },
      "outputs": [],
      "source": [
        "\n",
        "\n",
        "import pandas as pd\n",
        "import numpy as np\n",
        "import matplotlib.pyplot as plt \n",
        "from sklearn.model_selection import train_test_split\n",
        "import tensorflow as tf\n",
        "from tensorflow import keras\n",
        "import numpy as np\n",
        "from sklearn.preprocessing import MinMaxScaler\n",
        "\n",
        "\n",
        "dataPath = \"/content/drive/MyDrive/ML/tom_data_cleaned.csv\"\n",
        "\n",
        "data = pd.read_csv(dataPath, index_col=0)"
      ]
    },
    {
      "cell_type": "markdown",
      "source": [
        "Select feature columns. We will use the entire dataset here. "
      ],
      "metadata": {
        "id": "_UexHYFr6aO4"
      }
    },
    {
      "cell_type": "code",
      "source": [
        "#train the model on all data\n",
        "df = data\n",
        "\n",
        "feature_cols =  ['AGE_ABOVE65', 'DISEASE GROUPING 1',\n",
        "       'DISEASE GROUPING 2', 'DISEASE GROUPING 3', 'DISEASE GROUPING 4',\n",
        "       'DISEASE GROUPING 5', 'DISEASE GROUPING 6', 'HTN', 'IMMUNOCOMPROMISED',\n",
        "       'OTHER', 'ALBUMIN_MEAN', 'BE_ARTERIAL_MEAN', 'BE_VENOUS_MEAN',\n",
        "       'BIC_ARTERIAL_MEAN', 'BIC_VENOUS_MEAN', 'BILLIRUBIN_MEAN',\n",
        "       'CALCIUM_MEAN', 'CREATININ_MEAN', 'FFA_MEAN', 'GGT_MEAN',\n",
        "       'GLUCOSE_MEAN', 'HEMATOCRITE_MEAN', 'HEMOGLOBIN_MEAN', 'INR_MEAN',\n",
        "       'LACTATE_MEAN', 'LEUKOCYTES_MEAN', 'LINFOCITOS_MEAN',\n",
        "       'NEUTROPHILES_MEAN', 'P02_ARTERIAL_MEAN', 'P02_VENOUS_MEAN',\n",
        "       'PC02_ARTERIAL_MEAN', 'PC02_VENOUS_MEAN', 'PCR_MEAN',\n",
        "       'PH_ARTERIAL_MEAN', 'PH_VENOUS_MEAN', 'PLATELETS_MEAN',\n",
        "       'POTASSIUM_MEAN', 'SAT02_ARTERIAL_MEAN', 'SAT02_VENOUS_MEAN',\n",
        "       'SODIUM_MEAN', 'TGO_MEAN', 'TGP_MEAN', 'TTPA_MEAN', 'UREA_MEAN',\n",
        "       'DIMER_MEAN', 'BLOODPRESSURE_DIASTOLIC_MEAN',\n",
        "       'BLOODPRESSURE_SISTOLIC_MEAN', 'HEART_RATE_MEAN',\n",
        "       'RESPIRATORY_RATE_MEAN', 'TEMPERATURE_MEAN', 'OXYGEN_SATURATION_MEAN',\n",
        "       'BLOODPRESSURE_DIASTOLIC_MEDIAN', 'BLOODPRESSURE_SISTOLIC_MEDIAN',\n",
        "       'HEART_RATE_MEDIAN', 'RESPIRATORY_RATE_MEDIAN', 'TEMPERATURE_MEDIAN',\n",
        "       'OXYGEN_SATURATION_MEDIAN', 'BLOODPRESSURE_DIASTOLIC_MIN',\n",
        "       'BLOODPRESSURE_SISTOLIC_MIN', 'HEART_RATE_MIN', 'RESPIRATORY_RATE_MIN',\n",
        "       'TEMPERATURE_MIN', 'OXYGEN_SATURATION_MIN',\n",
        "       'BLOODPRESSURE_DIASTOLIC_MAX', 'BLOODPRESSURE_SISTOLIC_MAX',\n",
        "       'HEART_RATE_MAX', 'RESPIRATORY_RATE_MAX', 'TEMPERATURE_MAX',\n",
        "       'OXYGEN_SATURATION_MAX', 'BLOODPRESSURE_DIASTOLIC_DIFF',\n",
        "       'BLOODPRESSURE_SISTOLIC_DIFF', 'HEART_RATE_DIFF',\n",
        "       'RESPIRATORY_RATE_DIFF', 'TEMPERATURE_DIFF', 'OXYGEN_SATURATION_DIFF',\n",
        "       'BLOODPRESSURE_DIASTOLIC_DIFF_REL', 'BLOODPRESSURE_SISTOLIC_DIFF_REL',\n",
        "       'HEART_RATE_DIFF_REL', 'RESPIRATORY_RATE_DIFF_REL',\n",
        "       'TEMPERATURE_DIFF_REL', 'OXYGEN_SATURATION_DIFF_REL','age_mapped','GENDER_0', 'GENDER_1']\n",
        "\n",
        "#feature_cols =  ['RESPIRATORY_RATE_DIFF', 'BLOODPRESSURE_DIASTOLIC_MEDIAN', 'LACTATE_MEAN', 'TEMPERATURE_DIFF', 'LINFOCITOS_MEAN', 'PCR_MEAN', 'P02_VENOUS_MEAN', 'HTN', 'SODIUM_MEAN', 'NEUTROPHILES_MEAN', 'LEUKOCYTES_MEAN', 'BIC_VENOUS_MEAN', 'CALCIUM_MEAN', 'ALBUMIN_MEAN']\n",
        "\n",
        "df = df.dropna(axis=0,how='any')\n",
        "\n",
        "#select the features and labels\n",
        "X = df[feature_cols]\n",
        "y = df[\"ever_icu\"]\n",
        "\n",
        "#split into train/test group\n",
        "X_train,X_test,y_train,y_test = train_test_split(X,y,test_size=0.25,random_state=1)\n",
        "\n",
        "#scale the data between 0 and 1 to preserve the one-hot-encoding.\n",
        "min_max_scaler = MinMaxScaler()\n",
        "X_train = min_max_scaler.fit_transform(X_train)\n",
        "X_test = min_max_scaler.fit_transform(X_test)"
      ],
      "metadata": {
        "id": "zww_NH2Vek0e"
      },
      "execution_count": 711,
      "outputs": []
    },
    {
      "cell_type": "code",
      "source": [
        ""
      ],
      "metadata": {
        "id": "xsVFojxCkyGv"
      },
      "execution_count": 711,
      "outputs": []
    },
    {
      "cell_type": "markdown",
      "source": [
        "This predictor will use the entire dataset train a predictor to determine if someone will ever need ICU care. "
      ],
      "metadata": {
        "id": "E3ovGf1Z6lhg"
      }
    },
    {
      "cell_type": "code",
      "source": [
        "from sklearn.neural_network import MLPClassifier\n",
        "from sklearn import metrics\n",
        "import seaborn as sns\n",
        "\n",
        "clf = MLPClassifier(solver='adam', activation=\"logistic\", alpha=1e-10, hidden_layer_sizes=(10,8,2), random_state=1, max_iter = 10000)\n",
        "clf.fit(X_train, y_train)\n",
        "\n",
        "y_pred = clf.predict(X_test)\n",
        "\n",
        "cnf_matrix = metrics.confusion_matrix(y_test,y_pred)\n",
        "\n",
        "class_names=[\"Need ICU\",\"Do Not Need ICU\"]\n",
        "fig, ax = plt.subplots()\n",
        "tick_marks = np.arange(len(class_names))\n",
        "plt.xticks(tick_marks, class_names)\n",
        "plt.yticks(tick_marks, class_names)\n",
        "# create heatmap\n",
        "sns.heatmap(pd.DataFrame(cnf_matrix), annot=True, cmap=\"YlGnBu\" ,fmt='g')\n",
        "ax.xaxis.set_label_position(\"top\")\n",
        "plt.tight_layout()\n",
        "plt.title('Confusion matrix', y=1.1)\n",
        "plt.ylabel('Actual label')\n",
        "plt.xlabel('Predicted label')\n",
        "\n",
        "print(\"Accuracy:\",metrics.accuracy_score(y_test, y_pred))\n",
        "print(\"Precision:\",metrics.precision_score(y_test, y_pred))\n",
        "print(\"Recall:\",metrics.recall_score(y_test, y_pred))"
      ],
      "metadata": {
        "colab": {
          "base_uri": "https://localhost:8080/",
          "height": 380
        },
        "id": "5GlN8U37nXkW",
        "outputId": "4c9ef092-f881-4683-d698-c19ab8de06ab"
      },
      "execution_count": 712,
      "outputs": [
        {
          "output_type": "stream",
          "name": "stdout",
          "text": [
            "Accuracy: 0.872651356993737\n",
            "Precision: 0.9124423963133641\n",
            "Recall: 0.825\n"
          ]
        },
        {
          "output_type": "display_data",
          "data": {
            "image/png": "[encoded data removed]",
            "text/plain": [
              "<Figure size 432x288 with 2 Axes>"
            ]
          },
          "metadata": {
            "needs_background": "light"
          }
        }
      ]
    },
    {
      "cell_type": "code",
      "source": [
        "y_pred_proba = clf.predict_proba(X_test)[::,1]\n",
        "fpr, tpr, _ = metrics.roc_curve(y_test,  y_pred_proba)\n",
        "auc = metrics.roc_auc_score(y_test, y_pred_proba)\n",
        "plt.plot(fpr,tpr,label=\"data 1, auc=\"+str(auc))\n",
        "plt.legend(loc=4)\n",
        "plt.show()"
      ],
      "metadata": {
        "colab": {
          "base_uri": "https://localhost:8080/",
          "height": 264
        },
        "id": "11ZEmHjHKhEd",
        "outputId": "c48cda26-1016-4015-864e-9421c9e668f6"
      },
      "execution_count": 713,
      "outputs": [
        {
          "output_type": "display_data",
          "data": {
            "image/png": "[encoded data removed]",
            "text/plain": [
              "<Figure size 432x288 with 1 Axes>"
            ]
          },
          "metadata": {
            "needs_background": "light"
          }
        }
      ]
    },
    {
      "cell_type": "code",
      "source": [
        "#above model was trained on all data. Lets see how it performs on test data that from only window 0-2. This simulates \n",
        "#early detection in a hospital, because normally the hospital wont have time to collect 12 hours of data on a patient before\n",
        "#making a decision. \n",
        "\n",
        "print(np.shape(X_test))"
      ],
      "metadata": {
        "colab": {
          "base_uri": "https://localhost:8080/"
        },
        "id": "sAiB0NzbuQCT",
        "outputId": "5d53d8de-317a-4123-9c3b-d197bd457a1f"
      },
      "execution_count": 714,
      "outputs": [
        {
          "output_type": "stream",
          "name": "stdout",
          "text": [
            "(479, 84)\n"
          ]
        }
      ]
    },
    {
      "cell_type": "markdown",
      "source": [
        "Lets see how the model performs on data from only the first Window"
      ],
      "metadata": {
        "id": "LuomEg4Oekez"
      }
    },
    {
      "cell_type": "code",
      "source": [
        "print(X_test)\n",
        "print(y_test)"
      ],
      "metadata": {
        "colab": {
          "base_uri": "https://localhost:8080/"
        },
        "id": "nweTGQVK-4ik",
        "outputId": "f61a4166-6246-4a4e-ab40-d1783326d78f"
      },
      "execution_count": 715,
      "outputs": [
        {
          "output_type": "stream",
          "name": "stdout",
          "text": [
            "[[1.         0.         0.         ... 0.77777778 1.         0.        ]\n",
            " [0.         0.         0.         ... 0.44444444 1.         0.        ]\n",
            " [0.         0.         0.         ... 0.33333333 1.         0.        ]\n",
            " ...\n",
            " [0.         0.         0.         ... 0.11111111 0.         1.        ]\n",
            " [0.         0.         0.         ... 0.33333333 1.         0.        ]\n",
            " [1.         1.         0.         ... 0.88888889 0.         1.        ]]\n",
            "48      0\n",
            "1912    1\n",
            "223     1\n",
            "194     1\n",
            "1858    0\n",
            "       ..\n",
            "1599    0\n",
            "19      0\n",
            "1888    0\n",
            "1508    0\n",
            "1839    1\n",
            "Name: ever_icu, Length: 479, dtype: int64\n"
          ]
        }
      ]
    },
    {
      "cell_type": "code",
      "source": [
        "df2 = data\n",
        "df2 = df2.dropna(axis=0,how='any')\n",
        "X_train2,X_test2,y_train2,y_test2 = train_test_split(df2,df2,test_size=0.25,random_state=1)\n",
        "\n",
        "X_test2 = X_test2[X_test2[\"WINDOW\"] == \"0-2\"]\n",
        "y_test2 = X_test2[\"ever_icu\"]\n",
        "X_test2 = X_test2[feature_cols]\n",
        "X_test2 = min_max_scaler.fit_transform(X_test2)\n",
        "\n",
        "y_pred2 = clf.predict(X_test2)\n",
        "\n",
        "cnf_matrix = metrics.confusion_matrix(y_test2,y_pred2)\n",
        "\n",
        "class_names=[\"Need ICU\",\"Do Not Need ICU\"]\n",
        "fig, ax = plt.subplots()\n",
        "tick_marks = np.arange(len(class_names))\n",
        "plt.xticks(tick_marks, class_names)\n",
        "plt.yticks(tick_marks, class_names)\n",
        "# create heatmap\n",
        "sns.heatmap(pd.DataFrame(cnf_matrix), annot=True, cmap=\"YlGnBu\" ,fmt='g')\n",
        "ax.xaxis.set_label_position(\"top\")\n",
        "plt.tight_layout()\n",
        "plt.title('Confusion matrix', y=1.1)\n",
        "plt.ylabel('Actual label')\n",
        "plt.xlabel('Predicted label')\n",
        "\n",
        "print(\"Accuracy:\",metrics.accuracy_score(y_test2, y_pred2))\n",
        "print(\"Precision:\",metrics.precision_score(y_test2, y_pred2))\n",
        "print(\"Recall:\",metrics.recall_score(y_test2, y_pred2))\n",
        "\n"
      ],
      "metadata": {
        "colab": {
          "base_uri": "https://localhost:8080/",
          "height": 380
        },
        "id": "w2f-rpJx6-H-",
        "outputId": "271b6389-9633-471b-d408-f5799b141265"
      },
      "execution_count": 716,
      "outputs": [
        {
          "output_type": "stream",
          "name": "stdout",
          "text": [
            "Accuracy: 0.8522727272727273\n",
            "Precision: 0.9285714285714286\n",
            "Recall: 0.7959183673469388\n"
          ]
        },
        {
          "output_type": "display_data",
          "data": {
            "image/png": "[encoded data removed]",
            "text/plain": [
              "<Figure size 432x288 with 2 Axes>"
            ]
          },
          "metadata": {
            "needs_background": "light"
          }
        }
      ]
    },
    {
      "cell_type": "code",
      "source": [
        "y_pred_proba2 = clf.predict_proba(X_test2)[::,1]\n",
        "fpr, tpr, _ = metrics.roc_curve(y_test2,  y_pred_proba2)\n",
        "auc = metrics.roc_auc_score(y_test2, y_pred_proba2)\n",
        "plt.plot(fpr,tpr,label=\"data 1, auc=\"+str(auc))\n",
        "plt.legend(loc=4)\n",
        "plt.show()"
      ],
      "metadata": {
        "colab": {
          "base_uri": "https://localhost:8080/",
          "height": 264
        },
        "id": "OZtdkSO0WnZn",
        "outputId": "4e2562d8-d974-46d1-e5b4-f32dda96f238"
      },
      "execution_count": 717,
      "outputs": [
        {
          "output_type": "display_data",
          "data": {
            "image/png": "[encoded data removed]",
            "text/plain": [
              "<Figure size 432x288 with 1 Axes>"
            ]
          },
          "metadata": {
            "needs_background": "light"
          }
        }
      ]
    },
    {
      "cell_type": "code",
      "source": [
        ""
      ],
      "metadata": {
        "id": "pWYJCF_9WnMW"
      },
      "execution_count": 717,
      "outputs": []
    }
  ]
}