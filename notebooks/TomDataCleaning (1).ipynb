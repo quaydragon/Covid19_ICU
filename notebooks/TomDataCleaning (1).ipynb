{
  "nbformat": 4,
  "nbformat_minor": 0,
  "metadata": {
    "colab": {
      "name": "TomDataCleaning.ipynb",
      "provenance": [],
      "collapsed_sections": []
    },
    "kernelspec": {
      "name": "python3",
      "display_name": "Python 3"
    },
    "language_info": {
      "name": "python"
    }
  },
  "cells": [
    {
      "cell_type": "markdown",
      "source": [
        "# Goal\n",
        "The recent worldwide spread of the COVID-19 virus has placed an incredible strain on the worldwide healthcare system. Intelligent allocation of limited medical resources during a crisis is critical for preventing a collapse of the healthcare system and treating the greatest number of people possible. This project aims to assit hospitals allocate limited beds, personal protective equipment, and staff during the early stages of a developing outbreak.   \n",
        "\n",
        "Given a dataset of COVID-19 patients that includes demographic data, medical history and a timeseries of vitals/blood test results, we build several predictors that predict whether or not that patient will need ICU care in the near future. The results of these predictors can be used to triage individual COVID cases, even before severe symptoms may become apparent. Resources can be focused to those that need it the most, while not being wasted on those who won't need it."
      ],
      "metadata": {
        "id": "2z44qNbCWCtt"
      }
    },
    {
      "cell_type": "markdown",
      "source": [
        "# Overview of Provided Dataset\n",
        "* The dataset is an analaysis of 384 patients admitted to the hospital after a positive COVID-19 test. \n",
        "* For each patient, basic demographic information and medical history was recorded (i.e. Age, gender, and 'Disease Grouping').\n",
        "* Additionally, a blood test and vital signs were recorded upon admission to the hospital and every two hours afterwards.  \n",
        "<ul>\n",
        "* These measurements are captured in the WINDOW column. Window 0-2 implies that the measurements in that row were taken between 0 and 2 hours after entry to the hospital, 2-4 means that that the measurments in that row were taken 2 to 4 hours after entry, etc.\n",
        "* Every patient had a 0-2 measurement, but not all patients had later measurements taken\n",
        "</ul>\n",
        "* We aim to predict the 'ICU' Variable. If this value is 0, the patient is not in ICU care. If this value is 1, the patient is in ICU care. "
      ],
      "metadata": {
        "id": "KSOjErUkToTo"
      }
    },
    {
      "cell_type": "markdown",
      "source": [
        "# Imports\n",
        "Standard imports for data processing, data visualization, machine learning.\n",
        "\n",
        "\n"
      ],
      "metadata": {
        "id": "uCJrydQbR0YA"
      }
    },
    {
      "cell_type": "code",
      "metadata": {
        "id": "MPkqRzrUyr04"
      },
      "source": [
        "\n",
        "import pandas as pd\n",
        "import numpy as np\n",
        "from sklearn import preprocessing\n",
        "import matplotlib.pyplot as plt \n",
        "from sklearn.linear_model import LogisticRegression\n",
        "from sklearn.model_selection import train_test_split\n",
        "import seaborn as sns\n",
        "sns.set(style=\"white\")\n",
        "sns.set(style=\"whitegrid\", color_codes=True)\n",
        "dataPath = \"/content/drive/MyDrive/ML/KaggleRawDataEdited.csv\"\n",
        "\n",
        "data = pd.read_csv(dataPath)\n",
        "\n"
      ],
      "execution_count": null,
      "outputs": []
    },
    {
      "cell_type": "code",
      "metadata": {
        "id": "3UGYDVr7ysN-"
      },
      "source": [
        "#The columns provided in the raw dataset. \n",
        "data.columns\n",
        "for each in data.columns:\n",
        "  print(\"'\"+str(each)+\"'\")"
      ],
      "execution_count": null,
      "outputs": []
    },
    {
      "cell_type": "code",
      "source": [
        "icu_patient = data[['PATIENT_VISIT_IDENTIFIER','ICU']].groupby(['PATIENT_VISIT_IDENTIFIER']).sum()\n",
        "\n",
        "#These patients never needed to go to the ICU\n",
        "no_icu = icu_patient[icu_patient['ICU'] == 0]\n",
        "\n",
        "#These patients needed to go to the ICU at some point in time. \n",
        "icu = icu_patient[icu_patient['ICU'] > 0]\n",
        "\n",
        "#We see that in the provided dataset, 190 patients did not need ICU care, while\n",
        "#195 did. The dataset is rougly balanced between the two classes. \n",
        "print(len(no_icu))\n",
        "print(len(icu))"
      ],
      "metadata": {
        "colab": {
          "base_uri": "https://localhost:8080/"
        },
        "id": "oh89bWWkcf7n",
        "outputId": "a84fc638-f1e9-42a9-9f11-faa7e30505f7"
      },
      "execution_count": null,
      "outputs": [
        {
          "output_type": "stream",
          "name": "stdout",
          "text": [
            "190\n",
            "195\n"
          ]
        }
      ]
    },
    {
      "cell_type": "markdown",
      "source": [
        "# Cleaning up the data"
      ],
      "metadata": {
        "id": "A0A400xCeyap"
      }
    },
    {
      "cell_type": "code",
      "source": [
        "#This function will create a column called 'ever_icu'. This column will have a\n",
        "#1 if the corresponding patient went to the ICU at any point in time. It will\n",
        "#have a zero otherwise. This is the target variable we are predicting.\n",
        "\n",
        "def if_ever_icu(row):\n",
        "  patientEntry = row['PATIENT_VISIT_IDENTIFIER']\n",
        "  allPatientEntries = data[data['PATIENT_VISIT_IDENTIFIER'] == patientEntry]\n",
        "  sumIcu = allPatientEntries[['PATIENT_VISIT_IDENTIFIER', 'ICU']].sum()\n",
        "  if int (sumIcu['ICU']) > 0:\n",
        "    return 1\n",
        "  return 0\n",
        "\n",
        "data['ever_icu'] = data.apply(if_ever_icu, axis=1)\n",
        "data = data.drop('ICU', axis=1)\n",
        "print(data)\n"
      ],
      "metadata": {
        "colab": {
          "base_uri": "https://localhost:8080/"
        },
        "id": "bToqn1nTfKFj",
        "outputId": "2df92fd2-0c11-4934-df4a-9ed06e83ce24"
      },
      "execution_count": null,
      "outputs": [
        {
          "output_type": "stream",
          "name": "stdout",
          "text": [
            "      PATIENT_VISIT_IDENTIFIER  AGE_ABOVE65  ... WINDOW  ever_icu\n",
            "0                            0            1  ...    0-2         1\n",
            "1                            0            1  ...    2-4         1\n",
            "2                            0            1  ...    4-6         1\n",
            "3                            0            1  ...   6-12         1\n",
            "4                            0            1  ...    12+         1\n",
            "...                        ...          ...  ...    ...       ...\n",
            "1920                       384            0  ...    0-2         0\n",
            "1921                       384            0  ...    2-4         0\n",
            "1922                       384            0  ...    4-6         0\n",
            "1923                       384            0  ...   6-12         0\n",
            "1924                       384            0  ...    12+         0\n",
            "\n",
            "[1925 rows x 86 columns]\n"
          ]
        }
      ]
    },
    {
      "cell_type": "markdown",
      "source": [
        "Not all patients had measurements taken of each feature during each if the 5 timeseries measurements. Below, we assume that if a value is missing, we can fill it in with the average of the other measurements that the patient had taken."
      ],
      "metadata": {
        "id": "lBAGWoy3TsVk"
      }
    },
    {
      "cell_type": "code",
      "source": [
        "columns = 'ALBUMIN_MEAN','BE_ARTERIAL_MEAN','BE_VENOUS_MEAN','BIC_ARTERIAL_MEAN',\\\n",
        "'BIC_VENOUS_MEAN','BILLIRUBIN_MEAN','CALCIUM_MEAN','CREATININ_MEAN','FFA_MEAN',\\\n",
        "'GGT_MEAN','GLUCOSE_MEAN','HEMATOCRITE_MEAN','HEMOGLOBIN_MEAN','INR_MEAN','LACTATE_MEAN','LEUKOCYTES_MEAN','LINFOCITOS_MEAN',\\\n",
        "'NEUTROPHILES_MEAN','P02_ARTERIAL_MEAN','P02_VENOUS_MEAN','PC02_ARTERIAL_MEAN',\\\n",
        "'PC02_VENOUS_MEAN','PCR_MEAN','PH_ARTERIAL_MEAN','PH_VENOUS_MEAN','PLATELETS_MEAN',\\\n",
        "'POTASSIUM_MEAN','SAT02_ARTERIAL_MEAN','SAT02_VENOUS_MEAN','SODIUM_MEAN','TGO_MEAN',\\\n",
        "'TGP_MEAN','TTPA_MEAN','UREA_MEAN','DIMER_MEAN','BLOODPRESSURE_DIASTOLIC_MEAN',\\\n",
        "'BLOODPRESSURE_SISTOLIC_MEAN','HEART_RATE_MEAN','RESPIRATORY_RATE_MEAN','TEMPERATURE_MEAN',\\\n",
        "'OXYGEN_SATURATION_MEAN','BLOODPRESSURE_DIASTOLIC_MEDIAN','BLOODPRESSURE_SISTOLIC_MEDIAN',\\\n",
        "'HEART_RATE_MEDIAN','RESPIRATORY_RATE_MEDIAN','TEMPERATURE_MEDIAN','OXYGEN_SATURATION_MEDIAN',\\\n",
        "'BLOODPRESSURE_DIASTOLIC_MIN','BLOODPRESSURE_SISTOLIC_MIN','HEART_RATE_MIN','RESPIRATORY_RATE_MIN',\\\n",
        "'TEMPERATURE_MIN','OXYGEN_SATURATION_MIN','BLOODPRESSURE_DIASTOLIC_MAX','BLOODPRESSURE_SISTOLIC_MAX',\\\n",
        "'HEART_RATE_MAX','RESPIRATORY_RATE_MAX','TEMPERATURE_MAX','OXYGEN_SATURATION_MAX','BLOODPRESSURE_DIASTOLIC_DIFF',\\\n",
        "'BLOODPRESSURE_SISTOLIC_DIFF','HEART_RATE_DIFF','RESPIRATORY_RATE_DIFF','TEMPERATURE_DIFF',\\\n",
        "'OXYGEN_SATURATION_DIFF','BLOODPRESSURE_DIASTOLIC_DIFF_REL','BLOODPRESSURE_SISTOLIC_DIFF_REL',\\\n",
        "'HEART_RATE_DIFF_REL','RESPIRATORY_RATE_DIFF_REL','TEMPERATURE_DIFF_REL','OXYGEN_SATURATION_DIFF_REL'\n",
        "\n",
        "#This function will generate a temporary column that stores the average of each\n",
        "#feature, by patient. For instance, if a patients five measurements of ALBUMIN_MEAN are [10,n/a,n/a,30,20],\n",
        "#a new column named 'group_ALBUMIN_MEAN' will store the values 20,20,20,20,20 in the corresponding rows\n",
        "#for that patient. We will use this later to fill in missing values. \n",
        "def getAverageOfFeatureInGroup(feature):\n",
        "  patients = data.groupby('PATIENT_VISIT_IDENTIFIER')\n",
        "  temparray = np.zeros(1925)\n",
        "  for i in range(0,384):\n",
        "    group = patients.get_group(i)\n",
        "    mean = group[feature].mean()\n",
        "    for j in range(i*5, i*5+5):\n",
        "      temparray[j]=mean\n",
        "  data['group_'+feature] = temparray\n",
        "\n",
        "#make temporary columns of each feature in the above list.\n",
        "for each in columns:\n",
        "  getAverageOfFeatureInGroup(each)\n",
        "\n",
        "\n",
        "#if a value is missing in a given row, this funciton will fill in that missing\n",
        "#value with the average of all other values of the same patient. For instance,\n",
        "#if a patients five measurements of ALBUMIN_MEAN are [10,n/a,n/a,30,20], the two\n",
        "#n/a entries will be filled in with 20.\n",
        "for each in columns:\n",
        "  data[each].fillna(data['group_'+each],inplace=True)\n",
        "\n",
        "#drop the temporary columns that we used\n",
        "for each in columns:\n",
        "  data = data.drop('group_'+each, axis=1)\n",
        "\n"
      ],
      "metadata": {
        "id": "1FjApKhXjMU1"
      },
      "execution_count": null,
      "outputs": []
    },
    {
      "cell_type": "code",
      "source": [
        ""
      ],
      "metadata": {
        "id": "7M5rHbBHBbX0"
      },
      "execution_count": null,
      "outputs": []
    },
    {
      "cell_type": "markdown",
      "source": [
        "Below we turn age percentiles into integer values so that they can be used as linear features during the classification step. "
      ],
      "metadata": {
        "id": "VERdm3lkVm1-"
      }
    },
    {
      "cell_type": "code",
      "source": [
        "## Age percentiles\n",
        "\n",
        "ages = {'60th':6,\n",
        "        '90th': 9,\n",
        "        '10th': 1,\n",
        "        '40th': 4,\n",
        "        '70th': 7,\n",
        "        '20th': 2,\n",
        "        '50th': 5,\n",
        "        '80th': 8,\n",
        "        '30th': 3,\n",
        " 'Above 90th' : 10}\n",
        "\n",
        "def map_age(row):\n",
        "    per = row['AGE_PERCENTIL']\n",
        "    mapped = ages[per]\n",
        "    return mapped\n",
        "\n",
        "data['age_mapped'] = data.apply(map_age,axis=1)\n",
        "data = data.drop('AGE_PERCENTIL', axis=1)\n"
      ],
      "metadata": {
        "id": "DVyYqd9aVNHU"
      },
      "execution_count": null,
      "outputs": []
    },
    {
      "cell_type": "markdown",
      "source": [
        "Below we one-hot-encode gender so it can be used as a feature in the classification step."
      ],
      "metadata": {
        "id": "MDxk8ZfbYEzu"
      }
    },
    {
      "cell_type": "code",
      "source": [
        "y = pd.get_dummies(data.GENDER, prefix='GENDER')\n",
        "print(y.head())\n",
        "\n",
        "data['GENDER_0'] = y['GENDER_0']\n",
        "data['GENDER_1'] = y['GENDER_1']\n",
        "\n",
        "data = data.drop('GENDER', axis=1)"
      ],
      "metadata": {
        "colab": {
          "base_uri": "https://localhost:8080/"
        },
        "id": "jCp3g02WX8s5",
        "outputId": "25545c12-a9a1-4120-dcaa-fa72b0066e17"
      },
      "execution_count": null,
      "outputs": [
        {
          "output_type": "stream",
          "name": "stdout",
          "text": [
            "   GENDER_0  GENDER_1\n",
            "0         1         0\n",
            "1         1         0\n",
            "2         1         0\n",
            "3         1         0\n",
            "4         1         0\n"
          ]
        }
      ]
    },
    {
      "cell_type": "code",
      "source": [
        "data.to_csv('./tom_data.csv')"
      ],
      "metadata": {
        "id": "YxqihawUY69c"
      },
      "execution_count": null,
      "outputs": []
    },
    {
      "cell_type": "markdown",
      "source": [
        ""
      ],
      "metadata": {
        "id": "P8-RTMhndKPI"
      }
    },
    {
      "cell_type": "code",
      "source": [
        ""
      ],
      "metadata": {
        "id": "YuYDGnGcaC51"
      },
      "execution_count": null,
      "outputs": []
    }
  ]
}